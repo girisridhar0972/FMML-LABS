{
  "cells": [
    {
      "cell_type": "markdown",
      "metadata": {
        "id": "view-in-github",
        "colab_type": "text"
      },
      "source": [
        "<a href=\"https://colab.research.google.com/github/girisridhar0972/FMML-LABS/blob/main/FMML_M1L2.ipynb\" target=\"_parent\"><img src=\"https://colab.research.google.com/assets/colab-badge.svg\" alt=\"Open In Colab\"/></a>"
      ]
    },
    {
      "cell_type": "markdown",
      "metadata": {
        "id": "3Eu9VZbF01eq"
      },
      "source": [
        "# Machine Learning terms and metrics\n",
        "\n",
        "FMML Module 1, Lab 2\n",
        "\n",
        "In this lab, we will show a part of the ML pipeline by using the California Housing dataset. There are 20640 samples, each with 8 attributes like income of the block, age of the houses per district etc. The task is to predict the cost of the houses per district. We will use the scikit-learn library to load the data and perform some basic data preprocessing and model training. We will also show how to evaluate the model using some common metrics, split the data into training and testing sets, and use cross-validation to get a better estimate of the model's performance."
      ]
    },
    {
      "cell_type": "code",
      "execution_count": 1,
      "metadata": {
        "id": "8qBvyEem0vLi"
      },
      "outputs": [],
      "source": [
        "import numpy as np\n",
        "from sklearn import datasets\n",
        "import matplotlib.pyplot as plt\n",
        "\n",
        "rng = np.random.default_rng(seed=42)"
      ]
    },
    {
      "cell_type": "code",
      "execution_count": 2,
      "metadata": {
        "colab": {
          "base_uri": "https://localhost:8080/"
        },
        "id": "8LpqjN991GGJ",
        "outputId": "9440af06-9cb4-4b97-ee01-67f2019d45dc"
      },
      "outputs": [
        {
          "output_type": "stream",
          "name": "stdout",
          "text": [
            ".. _california_housing_dataset:\n",
            "\n",
            "California Housing dataset\n",
            "--------------------------\n",
            "\n",
            "**Data Set Characteristics:**\n",
            "\n",
            ":Number of Instances: 20640\n",
            "\n",
            ":Number of Attributes: 8 numeric, predictive attributes and the target\n",
            "\n",
            ":Attribute Information:\n",
            "    - MedInc        median income in block group\n",
            "    - HouseAge      median house age in block group\n",
            "    - AveRooms      average number of rooms per household\n",
            "    - AveBedrms     average number of bedrooms per household\n",
            "    - Population    block group population\n",
            "    - AveOccup      average number of household members\n",
            "    - Latitude      block group latitude\n",
            "    - Longitude     block group longitude\n",
            "\n",
            ":Missing Attribute Values: None\n",
            "\n",
            "This dataset was obtained from the StatLib repository.\n",
            "https://www.dcc.fc.up.pt/~ltorgo/Regression/cal_housing.html\n",
            "\n",
            "The target variable is the median house value for California districts,\n",
            "expressed in hundreds of thousands of dollars ($100,000).\n",
            "\n",
            "This dataset was derived from the 1990 U.S. census, using one row per census\n",
            "block group. A block group is the smallest geographical unit for which the U.S.\n",
            "Census Bureau publishes sample data (a block group typically has a population\n",
            "of 600 to 3,000 people).\n",
            "\n",
            "A household is a group of people residing within a home. Since the average\n",
            "number of rooms and bedrooms in this dataset are provided per household, these\n",
            "columns may take surprisingly large values for block groups with few households\n",
            "and many empty houses, such as vacation resorts.\n",
            "\n",
            "It can be downloaded/loaded using the\n",
            ":func:`sklearn.datasets.fetch_california_housing` function.\n",
            "\n",
            ".. rubric:: References\n",
            "\n",
            "- Pace, R. Kelley and Ronald Barry, Sparse Spatial Autoregressions,\n",
            "  Statistics and Probability Letters, 33 (1997) 291-297\n",
            "\n"
          ]
        }
      ],
      "source": [
        "dataset = datasets.fetch_california_housing()\n",
        "# Dataset description\n",
        "print(dataset.DESCR)"
      ]
    },
    {
      "cell_type": "markdown",
      "metadata": {
        "id": "PCe1VNftevgE"
      },
      "source": [
        "Given below are the list of target values. These correspond to the house value derived considering all the 8 input features and are continuous values. We should use regression models to predict these values but we will start with a simple classification model for the sake of simplicity. We need to just round off the values to the nearest integer and use a classification model to predict the house value."
      ]
    },
    {
      "cell_type": "code",
      "execution_count": 3,
      "metadata": {
        "colab": {
          "base_uri": "https://localhost:8080/"
        },
        "id": "F8K0ggBOevgE",
        "outputId": "4b6db655-22a0-4891-d709-eb8dc69ccbe7"
      },
      "outputs": [
        {
          "output_type": "stream",
          "name": "stdout",
          "text": [
            "Orignal target values: [4.526 3.585 3.521 ... 0.923 0.847 0.894]\n",
            "Target values after conversion: [4 3 3 ... 0 0 0]\n",
            "Input variables shape: (20640, 8)\n",
            "Output variables shape: (20640,)\n"
          ]
        }
      ],
      "source": [
        "print(\"Orignal target values:\", dataset.target)\n",
        "\n",
        "dataset.target = dataset.target.astype(int)\n",
        "\n",
        "print(\"Target values after conversion:\", dataset.target)\n",
        "print(\"Input variables shape:\", dataset.data.shape)\n",
        "print(\"Output variables shape:\", dataset.target.shape)"
      ]
    },
    {
      "cell_type": "markdown",
      "metadata": {
        "id": "iNx4174W5xRg"
      },
      "source": [
        "The simplest model to use for classification is the K-Nearest Neighbors model. We will use this model to predict the house value with a K value of 1. We will also use the accuracy metric to evaluate the model."
      ]
    },
    {
      "cell_type": "code",
      "execution_count": 4,
      "metadata": {
        "id": "07zpydQj1hIQ"
      },
      "outputs": [],
      "source": [
        "def NN1(traindata, trainlabel, query):\n",
        "    \"\"\"\n",
        "    This function takes in the training data, training labels and a query point\n",
        "    and returns the predicted label for the query point using the nearest neighbour algorithm\n",
        "\n",
        "    traindata: numpy array of shape (n,d) where n is the number of samples and d is the number of features\n",
        "    trainlabel: numpy array of shape (n,) where n is the number of samples\n",
        "    query: numpy array of shape (d,) where d is the number of features\n",
        "\n",
        "    returns: the predicted label for the query point which is the label of the training data which is closest to the query point\n",
        "    \"\"\"\n",
        "    diff = (\n",
        "        traindata - query\n",
        "    )  # find the difference between features. Numpy automatically takes care of the size here\n",
        "    sq = diff * diff  # square the differences\n",
        "    dist = sq.sum(1)  # add up the squares\n",
        "    label = trainlabel[np.argmin(dist)]\n",
        "    return label\n",
        "\n",
        "\n",
        "def NN(traindata, trainlabel, testdata):\n",
        "    \"\"\"\n",
        "    This function takes in the training data, training labels and test data\n",
        "    and returns the predicted labels for the test data using the nearest neighbour algorithm\n",
        "\n",
        "    traindata: numpy array of shape (n,d) where n is the number of samples and d is the number of features\n",
        "    trainlabel: numpy array of shape (n,) where n is the number of samples\n",
        "    testdata: numpy array of shape (m,d) where m is the number of test samples and d is the number of features\n",
        "\n",
        "    returns: the predicted labels for the test data which is the label of the training data which is closest to each test point\n",
        "    \"\"\"\n",
        "    predlabel = np.array([NN1(traindata, trainlabel, i) for i in testdata])\n",
        "    return predlabel"
      ]
    },
    {
      "cell_type": "markdown",
      "metadata": {
        "id": "03JktkfIGaje"
      },
      "source": [
        "We will also define a 'random classifier', which randomly allots labels to each sample"
      ]
    },
    {
      "cell_type": "code",
      "execution_count": 5,
      "metadata": {
        "id": "fogWAtjyGhAH"
      },
      "outputs": [],
      "source": [
        "def RandomClassifier(traindata, trainlabel, testdata):\n",
        "    \"\"\"\n",
        "    This function takes in the training data, training labels and test data\n",
        "    and returns the predicted labels for the test data using the random classifier algorithm\n",
        "\n",
        "    In reality, we don't need these arguments but we are passing them to keep the function signature consistent with other classifiers\n",
        "\n",
        "    traindata: numpy array of shape (n,d) where n is the number of samples and d is the number of features\n",
        "    trainlabel: numpy array of shape (n,) where n is the number of samples\n",
        "    testdata: numpy array of shape (m,d) where m is the number of test samples and d is the number of features\n",
        "\n",
        "    returns: the predicted labels for the test data which is a random label from the training data\n",
        "    \"\"\"\n",
        "\n",
        "    classes = np.unique(trainlabel)\n",
        "    rints = rng.integers(low=0, high=len(classes), size=len(testdata))\n",
        "    predlabel = classes[rints]\n",
        "    return predlabel"
      ]
    },
    {
      "cell_type": "markdown",
      "metadata": {
        "id": "1Hjf1KHs7fU5"
      },
      "source": [
        "We need a metric to evaluate the performance of the model. Let us define a metric 'Accuracy' to see how good our learning algorithm is. Accuracy is the ratio of the number of correctly classified samples to the total number of samples. The higher the accuracy, the better the algorithm. We will use the accuracy metric to evaluate and compate the performance of the K-Nearest Neighbors model and the random classifier."
      ]
    },
    {
      "cell_type": "code",
      "execution_count": 6,
      "metadata": {
        "id": "ouuCqWU07bz-"
      },
      "outputs": [],
      "source": [
        "def Accuracy(gtlabel, predlabel):\n",
        "    \"\"\"\n",
        "    This function takes in the ground-truth labels and predicted labels\n",
        "    and returns the accuracy of the classifier\n",
        "\n",
        "    gtlabel: numpy array of shape (n,) where n is the number of samples\n",
        "    predlabel: numpy array of shape (n,) where n is the number of samples\n",
        "\n",
        "    returns: the accuracy of the classifier which is the number of correct predictions divided by the total number of predictions\n",
        "    \"\"\"\n",
        "    assert len(gtlabel) == len(\n",
        "        predlabel\n",
        "    ), \"Length of the ground-truth labels and predicted labels should be the same\"\n",
        "    correct = (\n",
        "        gtlabel == predlabel\n",
        "    ).sum()  # count the number of times the groundtruth label is equal to the predicted label.\n",
        "    return correct / len(gtlabel)"
      ]
    },
    {
      "cell_type": "markdown",
      "metadata": {
        "id": "4vJFwBFa9Klw"
      },
      "source": [
        "Let us make a function to split the dataset with the desired probability. We will use this function to split the dataset into training and testing sets. We will use the training set to train the model and the testing set to evaluate the model."
      ]
    },
    {
      "cell_type": "code",
      "execution_count": 7,
      "metadata": {
        "id": "Ko0VzpSM2Tdi"
      },
      "outputs": [],
      "source": [
        "def split(data, label, percent):\n",
        "    # generate a random number for each sample\n",
        "    rnd = rng.random(len(label))\n",
        "    split1 = rnd < percent\n",
        "    split2 = rnd >= percent\n",
        "\n",
        "    split1data = data[split1, :]\n",
        "    split1label = label[split1]\n",
        "    split2data = data[split2, :]\n",
        "    split2label = label[split2]\n",
        "    return split1data, split1label, split2data, split2label"
      ]
    },
    {
      "cell_type": "markdown",
      "metadata": {
        "id": "AcK3LEAJ_LGC"
      },
      "source": [
        "We will reserve 20% of our dataset as the test set. We will not change this portion throughout our experiments"
      ]
    },
    {
      "cell_type": "code",
      "execution_count": 8,
      "metadata": {
        "colab": {
          "base_uri": "https://localhost:8080/"
        },
        "id": "bBZkHBLJ1iU-",
        "outputId": "d49632bc-f855-403c-8c3a-7fa242af0636"
      },
      "outputs": [
        {
          "output_type": "stream",
          "name": "stdout",
          "text": [
            "Number of test samples: 4144\n",
            "Number of train samples: 16496\n",
            "Percent of test data: 20.07751937984496 %\n"
          ]
        }
      ],
      "source": [
        "testdata, testlabel, alltraindata, alltrainlabel = split(\n",
        "    dataset.data, dataset.target, 20 / 100\n",
        ")\n",
        "print(\"Number of test samples:\", len(testlabel))\n",
        "print(\"Number of train samples:\", len(alltrainlabel))\n",
        "print(\"Percent of test data:\", len(testlabel) * 100 / len(dataset.target), \"%\")"
      ]
    },
    {
      "cell_type": "markdown",
      "metadata": {
        "id": "a6Ss0Z6IAGNV"
      },
      "source": [
        "## Experiments with splits\n",
        "\n",
        "Let us reserve some of our train data as a validation set"
      ]
    },
    {
      "cell_type": "code",
      "execution_count": 9,
      "metadata": {
        "id": "WFew2iry_7W7"
      },
      "outputs": [],
      "source": [
        "traindata, trainlabel, valdata, vallabel = split(\n",
        "    alltraindata, alltrainlabel, 75 / 100)"
      ]
    },
    {
      "cell_type": "markdown",
      "metadata": {
        "id": "60hiu4clFN1i"
      },
      "source": [
        "What is the accuracy of our classifiers on the train dataset?"
      ]
    },
    {
      "cell_type": "code",
      "execution_count": 10,
      "metadata": {
        "colab": {
          "base_uri": "https://localhost:8080/"
        },
        "id": "DBlZDTHUFTZx",
        "outputId": "7e281928-04d6-4029-8a1b-1d852e81667f"
      },
      "outputs": [
        {
          "output_type": "stream",
          "name": "stdout",
          "text": [
            "Training accuracy using nearest neighbour algorithm: 100.0 %\n",
            "Training accuracy using random classifier:  16.4375808538163 %\n"
          ]
        }
      ],
      "source": [
        "trainpred = NN(traindata, trainlabel, traindata)\n",
        "trainAccuracy = Accuracy(trainlabel, trainpred)\n",
        "print(\"Training accuracy using nearest neighbour algorithm:\", trainAccuracy*100, \"%\")\n",
        "\n",
        "trainpred = RandomClassifier(traindata, trainlabel, traindata)\n",
        "trainAccuracy = Accuracy(trainlabel, trainpred)\n",
        "print(\"Training accuracy using random classifier: \", trainAccuracy*100, \"%\")"
      ]
    },
    {
      "cell_type": "markdown",
      "metadata": {
        "id": "7h08-9gJDtSy"
      },
      "source": [
        "For nearest neighbour, the train accuracy is always 1. The accuracy of the random classifier is close to 1/(number of classes) which is 0.1666 in our case. This is because the random classifier randomly assigns a label to each sample and the probability of assigning the correct label is 1/(number of classes). Let us predict the labels for our validation set and get the accuracy. This accuracy is a good estimate of the accuracy of our model on unseen data."
      ]
    },
    {
      "cell_type": "code",
      "execution_count": 11,
      "metadata": {
        "colab": {
          "base_uri": "https://localhost:8080/"
        },
        "id": "4h7bXoW_2H3v",
        "outputId": "96116775-5813-4621-ac55-1e5e09ae8b23"
      },
      "outputs": [
        {
          "output_type": "stream",
          "name": "stdout",
          "text": [
            "Validation accuracy using nearest neighbour algorithm: 34.10852713178294 %\n",
            "Validation accuracy using random classifier: 16.884689922480618 %\n"
          ]
        }
      ],
      "source": [
        "valpred = NN(traindata, trainlabel, valdata)\n",
        "valAccuracy = Accuracy(vallabel, valpred)\n",
        "print(\"Validation accuracy using nearest neighbour algorithm:\", valAccuracy*100, \"%\")\n",
        "\n",
        "\n",
        "valpred = RandomClassifier(traindata, trainlabel, valdata)\n",
        "valAccuracy = Accuracy(vallabel, valpred)\n",
        "print(\"Validation accuracy using random classifier:\", valAccuracy*100, \"%\")"
      ]
    },
    {
      "cell_type": "markdown",
      "metadata": {
        "id": "py9bLguFEjfg"
      },
      "source": [
        "Validation accuracy of nearest neighbour is considerably less than its train accuracy while the validation accuracy of random classifier is the same. However, the validation accuracy of nearest neighbour is twice that of the random classifier. Now let us try another random split and check the validation accuracy. We will see that the validation accuracy changes with the split. This is because the validation set is small and the accuracy is highly dependent on the samples in the validation set. We can get a better estimate of the accuracy by using cross-validation."
      ]
    },
    {
      "cell_type": "code",
      "execution_count": 12,
      "metadata": {
        "colab": {
          "base_uri": "https://localhost:8080/"
        },
        "id": "ujm3cyYzEntE",
        "outputId": "4ef011a8-1686-4d7b-dba5-47355e6530b8"
      },
      "outputs": [
        {
          "output_type": "stream",
          "name": "stdout",
          "text": [
            "Validation accuracy using nearest neighbour algorithm: 34.048257372654156 %\n"
          ]
        }
      ],
      "source": [
        "traindata, trainlabel, valdata, vallabel = split(\n",
        "    alltraindata, alltrainlabel, 75 / 100)\n",
        "valpred = NN(traindata, trainlabel, valdata)\n",
        "valAccuracy = Accuracy(vallabel, valpred)\n",
        "print(\"Validation accuracy using nearest neighbour algorithm:\", valAccuracy*100, \"%\")"
      ]
    },
    {
      "cell_type": "markdown",
      "metadata": {
        "id": "oSOx7U83EKie"
      },
      "source": [
        "You can run the above cell multiple times to try with different random splits.\n",
        "We notice that the accuracy is different for each run, but close together.\n",
        "\n",
        "Now let us compare it with the accuracy we get on the test dataset."
      ]
    },
    {
      "cell_type": "code",
      "execution_count": 13,
      "metadata": {
        "colab": {
          "base_uri": "https://localhost:8080/"
        },
        "id": "PNEZ5ToYBEDW",
        "outputId": "000a6910-20ef-4bd2-a3bb-d11edcf0d617"
      },
      "outputs": [
        {
          "output_type": "stream",
          "name": "stdout",
          "text": [
            "Test accuracy: 34.91795366795367 %\n"
          ]
        }
      ],
      "source": [
        "testpred = NN(alltraindata, alltrainlabel, testdata)\n",
        "testAccuracy = Accuracy(testlabel, testpred)\n",
        "\n",
        "print(\"Test accuracy:\", testAccuracy*100, \"%\")"
      ]
    },
    {
      "cell_type": "markdown",
      "metadata": {
        "id": "w3dGD531K3gH"
      },
      "source": [
        "### Try it out for yourself and answer:\n",
        "1. How is the accuracy of the validation set affected if we increase the percentage of validation set? What happens when we reduce it?\n",
        "2. How does the size of the train and validation set affect how well we can predict the accuracy on the test set using the validation set?\n",
        "3. What do you think is a good percentage to reserve for the validation set so that thest two factors are balanced?\n",
        "\n",
        "Answer for both nearest neighbour and random classifier. You can note down the values for your experiments and plot a graph using  <a href=https://matplotlib.org/stable/gallery/lines_bars_and_markers/step_demo.html#sphx-glr-gallery-lines-bars-and-markers-step-demo-py>plt.plot<href>. Check also for extreme values for splits, like 99.9% or 0.1%"
      ]
    },
    {
      "cell_type": "markdown",
      "metadata": {
        "id": "M9zvdYY6evgI"
      },
      "source": [
        "> Exercise: Try to implement a 3 nearest neighbour classifier and compare the accuracy of the 1 nearest neighbour classifier and the 3 nearest neighbour classifier on the test dataset. You can use the KNeighborsClassifier class from the scikit-learn library to implement the K-Nearest Neighbors model. You can set the number of neighbors using the n_neighbors parameter. You can also use the accuracy_score function from the scikit-learn library to calculate the accuracy of the model."
      ]
    },
    {
      "cell_type": "markdown",
      "metadata": {
        "id": "PnYvkAZLQY7h"
      },
      "source": [
        "## Multiple Splits\n",
        "\n",
        "One way to get more accurate estimates for the test accuracy is by using <b>cross-validation</b>. Here, we will try a simple version, where we do multiple train/val splits and take the average of validation accuracies as the test accuracy estimation. Here is a function for doing this. Note that this function will take a long time to execute. You can reduce the number of splits to make it faster."
      ]
    },
    {
      "cell_type": "code",
      "execution_count": 14,
      "metadata": {
        "id": "E4nGCUQXBTzo"
      },
      "outputs": [],
      "source": [
        "def AverageAccuracy(alldata, alllabel, splitpercent, iterations, classifier=NN):\n",
        "    \"\"\"\n",
        "    This function takes in the data, labels, split percentage, number of iterations and classifier function\n",
        "    and returns the average accuracy of the classifier\n",
        "\n",
        "    alldata: numpy array of shape (n,d) where n is the number of samples and d is the number of features\n",
        "    alllabel: numpy array of shape (n,) where n is the number of samples\n",
        "    splitpercent: float which is the percentage of data to be used for training\n",
        "    iterations: int which is the number of iterations to run the classifier\n",
        "    classifier: function which is the classifier function to be used\n",
        "\n",
        "    returns: the average accuracy of the classifier\n",
        "    \"\"\"\n",
        "    accuracy = 0\n",
        "    for ii in range(iterations):\n",
        "        traindata, trainlabel, valdata, vallabel = split(\n",
        "            alldata, alllabel, splitpercent\n",
        "        )\n",
        "        valpred = classifier(traindata, trainlabel, valdata)\n",
        "        accuracy += Accuracy(vallabel, valpred)\n",
        "    return accuracy / iterations  # average of all accuracies"
      ]
    },
    {
      "cell_type": "code",
      "execution_count": 15,
      "metadata": {
        "colab": {
          "base_uri": "https://localhost:8080/"
        },
        "id": "H3qtNar7Bbik",
        "outputId": "57218e03-2323-4a7b-c820-137b1780a18e"
      },
      "outputs": [
        {
          "output_type": "stream",
          "name": "stdout",
          "text": [
            "Average validation accuracy: 33.58463539517022 %\n",
            "Test accuracy: 34.91795366795367 %\n"
          ]
        }
      ],
      "source": [
        "avg_acc = AverageAccuracy(alltraindata, alltrainlabel, 75 / 100, 10, classifier=NN)\n",
        "print(\"Average validation accuracy:\", avg_acc*100, \"%\")\n",
        "testpred = NN(alltraindata, alltrainlabel, testdata)\n",
        "\n",
        "print(\"Test accuracy:\", Accuracy(testlabel, testpred)*100, \"%\")"
      ]
    },
    {
      "cell_type": "markdown",
      "metadata": {
        "id": "33GIn4x5VH-d"
      },
      "source": [
        "This is a very simple way of doing cross-validation. There are many well-known algorithms for cross-validation, like k-fold cross-validation, leave-one-out etc. This will be covered in detail in a later module. For more information about cross-validation, check <a href=https://en.wikipedia.org/wiki/Cross-validation_(statistics)>Cross-validatioin (Wikipedia)</a>\n",
        "\n",
        "### Questions\n",
        "1. Does averaging the validation accuracy across multiple splits give more consistent results?\n",
        "2. Does it give more accurate estimate of test accuracy?\n",
        "3. What is the effect of the number of iterations on the estimate? Do we get a better estimate with higher iterations?\n",
        "4. Consider the results you got for the previous questions. Can we deal with a very small train dataset or validation dataset by increasing the iterations?\n"
      ]
    },
    {
      "cell_type": "markdown",
      "metadata": {
        "id": "z-SBxy1qevgJ"
      },
      "source": [
        "> Exercise: How does the accuracy of the 3 nearest neighbour classifier change with the number of splits? How is it affected by the split size? Compare the results with the 1 nearest neighbour classifier."
      ]
    },
    {
      "cell_type": "markdown",
      "source": [
        "1A) Yes, averaging validation accuracy across multiple splits can provide more consistent results. This approach is known as:\n",
        "\n",
        "K-Fold Cross-Validation with Averaging\n",
        "\n",
        "By averaging validation accuracy across multiple splits, you:\n",
        "\n",
        "Benefits:\n",
        "\n",
        "1. Reduced Variance: Averaging reduces the impact of random fluctuations in validation accuracy.\n",
        "2. Improved Generalizability: Averaging helps estimate the model's performance on unseen data.\n",
        "3. More Reliable Comparison: Comparing average validation accuracy across models or hyperparameters becomes more reliable.\n",
        "\n",
        "How to Implement:\n",
        "\n",
        "1. Split data into K folds (e.g., K=5).\n",
        "2. Train and evaluate the model on each fold.\n",
        "3. Calculate validation accuracy for each fold.\n",
        "4. Average validation accuracy across all K folds.\n",
        "\n",
        "Example Code (K-Fold Cross-Validation with Averaging):\n",
        "\n",
        "Using Python and scikit-learn:\n",
        "\n",
        "from sklearn.model_selection import KFold\n",
        "from sklearn.ensemble import RandomForestClassifier\n",
        "from sklearn.metrics import accuracy_score\n",
        "\n",
        "# Define model and hyperparameters\n",
        "rfc = RandomForestClassifier(n_estimators=100)\n",
        "\n",
        "# Define K-Fold Cross-Validation object\n",
        "kfold = KFold(n_splits=5, shuffle=True, random_state=42)\n",
        "\n",
        "# Initialize list to store validation accuracies\n",
        "val_accs = []\n",
        "\n",
        "# Iterate over folds\n",
        "for train_idx, val_idx in kfold.split(X):\n",
        "    X_train, X_val = X[train_idx], X[val_idx]\n",
        "    y_train, y_val = y[train_idx], y[val_idx]\n",
        "\n",
        "    # Train model on current fold\n",
        "    rfc.fit(X_train, y_train)\n",
        "\n",
        "    # Predict on validation set\n",
        "    y_pred = rfc.predict(X_val)\n",
        "\n",
        "    # Calculate validation accuracy\n",
        "    val_acc = accuracy_score(y_val, y_pred)\n",
        "\n",
        "    # Append to list\n",
        "    val_accs.append(val_acc)\n",
        "\n",
        "# Calculate average validation accuracy\n",
        "avg_val_acc = np.mean(val_accs)\n",
        "print(\"Average Validation Accuracy:\", avg_val_acc)\n",
        "\n",
        "In this example, we use 5-fold cross-validation and average the validation accuracy across all folds.\n",
        "\n",
        "\n",
        "Stratified K-Fold Cross-Validation:\n",
        "\n",
        "For classification problems with imbalanced classes, use Stratified K-Fold Cross-Validation to ensure each fold has a similar class distribution.\n",
        "\n",
        "\n",
        "Number of Folds (K):\n",
        "\n",
        "Choose K based on:\n",
        "\n",
        "- Computational resources\n",
        "- Dataset size\n",
        "- Desired level of precision\n",
        "\n",
        "Common values for K are 5, 10, or 20"
      ],
      "metadata": {
        "id": "E604BUMV35D_"
      }
    },
    {
      "cell_type": "markdown",
      "source": [
        "2A) Averaging validation accuracy across multiple splits (K-Fold Cross-Validation) provides a more accurate estimate of test accuracy under certain conditions.\n",
        "\n",
        "\n",
        "Advantages:\n",
        "\n",
        "1. Reduced overfitting: By evaluating the model on multiple unseen subsets (folds), you reduce the risk of overfitting to a single validation set.\n",
        "2. Improved generalizability: K-Fold Cross-Validation helps estimate how well the model generalizes to new, unseen data.\n",
        "3. Better handling of variability: Averaging across folds reduces the impact of random fluctuations in validation accuracy.\n",
        "\n",
        "\n",
        "Conditions for improved accuracy estimation:\n",
        "\n",
        "1. Large enough dataset: K-Fold Cross-Validation works best with larger datasets.\n",
        "2. Sufficient number of folds: Choose a suitable number of folds (K) based on dataset size and computational resources.\n",
        "3. Model complexity: K-Fold Cross-Validation helps with complex models prone to overfitting.\n",
        "\n",
        "\n",
        "Limitations:\n",
        "\n",
        "1. Computational cost: Training and evaluating the model multiple times can be computationally expensive.\n",
        "2. Increased variance: If the model is highly sensitive to training data, K-Fold Cross-Validation may introduce additional variance.\n",
        "\n",
        "\n",
        "Comparison to other methods:\n",
        "\n",
        "1. Holdout method: K-Fold Cross-Validation generally provides a more accurate estimate than the holdout method (single train-validation split).\n",
        "2. Bootstrapping: K-Fold Cross-Validation and bootstrapping have similar goals but differ in approach.\n",
        "\n",
        "\n",
        "Best practices:\n",
        "\n",
        "1. Stratified K-Fold Cross-Validation: Use stratified splitting for classification problems with imbalanced classes.\n",
        "2. Randomized splitting: Use randomized splitting to minimize bias.\n",
        "3. Monitor performance metrics: Track multiple metrics (e.g., accuracy, precision, recall, F1-score) for comprehensive evaluation.\n",
        "\n",
        "\n",
        "By considering these factors, you can effectively utilize K-Fold Cross-Validation to estimate test accuracy and improve your model's reliability.\n",
        "\n",
        "\n",
        "Would you like more information on implementing K-Fold Cross-Validation or estimating test accuracy?"
      ],
      "metadata": {
        "id": "jXrkojzy348z"
      }
    },
    {
      "cell_type": "markdown",
      "source": [],
      "metadata": {
        "id": "xBIYaEC89ZGR"
      }
    },
    {
      "cell_type": "markdown",
      "source": [
        "3A) The number of iterations (K) in K-Fold Cross-Validation significantly impacts the estimate's quality.\n",
        "\n",
        "\n",
        "Effects of increasing K:\n",
        "\n",
        "1. Reduced variability: More iterations reduce the estimate's variability, providing a more stable evaluation.\n",
        "2. Improved accuracy: Higher K values tend to yield more accurate estimates, closer to the true test accuracy.\n",
        "3. Better handling of noise: Increased iterations help mitigate the impact of noisy data.\n",
        "4. Computational cost: Higher K values increase computational time and resources.\n",
        "\n",
        "\n",
        "Optimal K value:\n",
        "\n",
        "1. Dataset size: Larger datasets can benefit from smaller K values (e.g., 5-10).\n",
        "2. Model complexity: Simpler models may require fewer iterations (e.g., 5-10), while complex models benefit from more (e.g., 20-50).\n",
        "3. Computational resources: Balance computational cost with desired precision.\n",
        "\n",
        "\n",
        "Consequences of low K:\n",
        "\n",
        "1. High variability: Fewer iterations lead to unstable estimates.\n",
        "2. Biased estimates: Small K values may result in biased estimates, especially with imbalanced datasets.\n",
        "\n",
        "\n",
        "Consequences of high K:\n",
        "\n",
        "1. Overfitting: Excessive iterations can lead to overfitting, especially with complex models.\n",
        "2. Computational burden: High K values increase computational costs.\n",
        "\n",
        "\n",
        "Guidelines for choosing K:\n",
        "\n",
        "1. Start with K=5 or K=10 for smaller datasets or simpler models.\n",
        "2. Increase K for larger datasets or complex models.\n",
        "3. Monitor computational resources and adjust K accordingly.\n",
        "\n",
        "\n",
        "Alternative methods:\n",
        "\n",
        "1. Bootstrap resampling: Use bootstrap resampling for estimating variability.\n",
        "2. Monte Carlo cross-validation: Employ Monte Carlo cross-validation for large datasets.\n",
        "\n",
        "\n",
        "Example Code (Varying K):\n",
        "\n",
        "Using Python and scikit-learn:\n",
        "\n",
        "from sklearn.model_selection import KFold\n",
        "from sklearn.ensemble import RandomForestClassifier\n",
        "from sklearn.metrics import accuracy_score\n",
        "\n",
        "# Define model and hyperparameters\n",
        "rfc = RandomForestClassifier(n_estimators=100)\n",
        "\n",
        "# Define dataset\n",
        "X, y = ...\n",
        "\n",
        "# Vary K\n",
        "for K in [5, 10, 20, 50]:\n",
        "    kfold = KFold(n_splits=K, shuffle=True, random_state=42)\n",
        "    val_accs = []\n",
        "    \n",
        "    for train_idx, val_idx in kfold.split(X):\n",
        "        X_train, X_val = X[train_idx], X[val_idx]\n",
        "        y_train, y_val = y[train_idx], y[val_idx]\n",
        "        \n",
        "        rfc.fit(X_train, y_train)\n",
        "        y_pred = rfc.predict(X_val)\n",
        "        val_acc = accuracy_score(y_val, y_pred)\n",
        "        val_accs.append(val_acc)\n",
        "    \n",
        "    avg_val_acc = np.mean(val_accs)\n",
        "    print(f\"K={K}, Average Validation Accuracy: {avg_val_acc:.4f}\")\n",
        "\n",
        "This example demonstrates how varying K affects the estimate.\n"
      ],
      "metadata": {
        "id": "tmmMGKZL-Dqe"
      }
    },
    {
      "cell_type": "markdown",
      "source": [
        "4A) The number of iterations (K) in K-Fold Cross-Validation significantly impacts the estimate's quality.\n",
        "\n",
        "\n",
        "Effects of increasing K:\n",
        "\n",
        "1. Reduced variability: More iterations reduce the estimate's variability, providing a more stable evaluation.\n",
        "2. Improved accuracy: Higher K values tend to yield more accurate estimates, closer to the true test accuracy.\n",
        "3. Better handling of noise: Increased iterations help mitigate the impact of noisy data.\n",
        "4. Computational cost: Higher K values increase computational time and resources.\n",
        "\n",
        "\n",
        "Optimal K value:\n",
        "\n",
        "1. Dataset size: Larger datasets can benefit from smaller K values (e.g., 5-10).\n",
        "2. Model complexity: Simpler models may require fewer iterations (e.g., 5-10), while complex models benefit from more (e.g., 20-50).\n",
        "3. Computational resources: Balance computational cost with desired precision.\n",
        "\n",
        "\n",
        "Consequences of low K:\n",
        "\n",
        "1. High variability: Fewer iterations lead to unstable estimates.\n",
        "2. Biased estimates: Small K values may result in biased estimates, especially with imbalanced datasets.\n",
        "\n",
        "\n",
        "Consequences of high K:\n",
        "\n",
        "1. Overfitting: Excessive iterations can lead to overfitting, especially with complex models.\n",
        "2. Computational burden: High K values increase computational costs.\n",
        "\n",
        "\n",
        "Guidelines for choosing K:\n",
        "\n",
        "1. Start with K=5 or K=10 for smaller datasets or simpler models.\n",
        "2. Increase K for larger datasets or complex models.\n",
        "3. Monitor computational resources and adjust K accordingly.\n",
        "\n",
        "\n",
        "Alternative methods:\n",
        "\n",
        "1. Bootstrap resampling: Use bootstrap resampling for estimating variability.\n",
        "2. Monte Carlo cross-validation: Employ Monte Carlo cross-validation for large datasets.\n",
        "\n",
        "\n",
        "Example Code (Varying K):\n",
        "\n",
        "Using Python and scikit-learn:\n",
        "\n",
        "from sklearn.model_selection import KFold\n",
        "from sklearn.ensemble import RandomForestClassifier\n",
        "from sklearn.metrics import accuracy_score\n",
        "\n",
        "# Define model and hyperparameters\n",
        "rfc = RandomForestClassifier(n_estimators=100)\n",
        "\n",
        "# Define dataset\n",
        "X, y = ...\n",
        "\n",
        "# Vary K\n",
        "for K in [5, 10, 20, 50]:\n",
        "    kfold = KFold(n_splits=K, shuffle=True, random_state=42)\n",
        "    val_accs = []\n",
        "    \n",
        "    for train_idx, val_idx in kfold.split(X):\n",
        "        X_train, X_val = X[train_idx], X[val_idx]\n",
        "        y_train, y_val = y[train_idx], y[val_idx]\n",
        "        \n",
        "        rfc.fit(X_train, y_train)\n",
        "        y_pred = rfc.predict(X_val)\n",
        "        val_acc = accuracy_score(y_val, y_pred)\n",
        "        val_accs.append(val_acc)\n",
        "    \n",
        "    avg_val_acc = np.mean(val_accs)\n",
        "    print(f\"K={K}, Average Validation Accuracy: {avg_val_acc:.4f}\")\n",
        "\n",
        "This example demonstrates how varying K affects the estimate.\n",
        "\n",
        "\n",
        "Would you like more information on choosing the optimal K value or estimating test accuracy?"
      ],
      "metadata": {
        "id": "IK0P4R1z-k-c"
      }
    }
  ],
  "metadata": {
    "colab": {
      "provenance": [],
      "include_colab_link": true
    },
    "kernelspec": {
      "display_name": "Python 3",
      "name": "python3"
    },
    "language_info": {
      "codemirror_mode": {
        "name": "ipython",
        "version": 3
      },
      "file_extension": ".py",
      "mimetype": "text/x-python",
      "name": "python",
      "nbconvert_exporter": "python",
      "pygments_lexer": "ipython3",
      "version": "3.10.10"
    }
  },
  "nbformat": 4,
  "nbformat_minor": 0
}